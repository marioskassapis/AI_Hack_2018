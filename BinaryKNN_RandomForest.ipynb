{
  "cells": [
    {
      "metadata": {
        "trusted": true
      },
      "cell_type": "code",
      "source": "import numpy as np\nimport matplotlib.pyplot as plt\nimport pandas as pd\nimport sklearn\ndata = pd.read_csv(\"ShoniData.csv\")",
      "execution_count": 1,
      "outputs": [
        {
          "output_type": "stream",
          "text": "/home/nbuser/anaconda3_501/lib/python3.6/site-packages/IPython/core/interactiveshell.py:3018: DtypeWarning: Columns (0,51) have mixed types. Specify dtype option on import or set low_memory=False.\n  interactivity=interactivity, compiler=compiler, result=result)\n",
          "name": "stderr"
        }
      ]
    },
    {
      "metadata": {
        "trusted": true
      },
      "cell_type": "code",
      "source": "test_set = pd.read_csv(\"test_data.csv\")\n",
      "execution_count": 2,
      "outputs": []
    },
    {
      "metadata": {
        "trusted": true
      },
      "cell_type": "code",
      "source": "play_data = data[0:270000].copy() #get some data messwith, we can get more data to train our models later\ntest = data[270100:270200]\n#remove elements were a value is unkown\n#alternatively we could replace is by a random value but that could be attempted later\nplay_data = play_data.drop(play_data[play_data.age_band_of_driver == -1].index)\nplay_data = play_data.drop(play_data[play_data.number_of_vehicles == -1].index)\nplay_data = play_data.drop(play_data[play_data.weather_conditions == -1].index)\nplay_data = play_data.drop(play_data[play_data.age_band_of_driver == -1].index)\nplay_data = play_data.drop(play_data[play_data.first_point_of_impact == -1].index)\nplay_data = play_data.drop(play_data[play_data.road_type == -1].index)\n\n#print (test)\ntest = test.drop(test[test.age_band_of_driver == -1].index)\ntest = test.drop(test[test.number_of_vehicles == -1].index)\ntest = test.drop(test[test.weather_conditions == -1].index)\ntest = test.drop(test[test.age_band_of_driver == -1].index)\ntest = test.drop(test[test.first_point_of_impact == -1].index)\ntest = test.drop(test[test.road_type == -1].index)\n\na = play_data.reset_index()\nplay_data = a\nb = test.reset_index()\ntest = b\n\nX = play_data[[\"speed_limit\",\"weather_conditions\",\"number_of_vehicles\",\n               \"road_type\",\"accident_severity\",\"day_of_week\"]]\n\nXtest = test[[\"speed_limit\",\"weather_conditions\",\"number_of_vehicles\",\n               \"road_type\",\"accident_severity\",\"day_of_week\"]]\n\nXtest_set = test_set[[\"Speed_limit\",\"Weather_Conditions\",\"Number_of_Vehicles\",\n              \"Road_Type\",\"Accident_Severity\",\"Day_of_Week\"]]\n#return the accident refernce so that we can later identify the correct y's\n\n\n#this is the y variable\nY = play_data[\"number_of_casualties\"] #casualties is our interest variable Y\nYtest = test[\"number_of_casualties\"]\n\n\n#Ysev = play_data[\"casualty_severity\"] #casualties is our interest variable Y\n#Ysev_test = test[\"casualty_severity\"]\n#Ysev = Ysev.drop(Ysev[Ysev== -1].index)\n\n#have to prepare the data to be fed into a classifier\n#we need an X sample data\n#the goal is to take X and unpack all categories into single binary categories\ndef binarize(N,array):\n    l = len(array)\n    B = np.zeros((l,N))\n    index = range(l)\n    array.dtype = int\n    \n    B[index,array-1] = 1\n    return B\n\n\nX = np.asarray(X)\nX = X.astype(int)\nspeed = X[:,0]\nspeed = speed / 10\nspeed = speed.astype(int)\nweather = X[:,1]\nweather = weather.astype(int)\nvehicle = X[:,2]\nroad_type = X[:,3]\na_severity = X[:,4]\nday = X[:,5]\nweather = binarize(9,weather)\nspeed = binarize(7,speed)\nvehicle.shape = (-1,1)\nroad_type = binarize(9,road_type)\na_severity = binarize(3,a_severity)\nday = binarize(7,day)\n\nA = np.hstack((weather,speed,vehicle,road_type,a_severity,day))\nA = A.astype(int)\ntempX = A\n\nX = np.asarray(Xtest)\nX = X.astype(int)\nspeed = X[:,0]\nspeed = speed / 10\nspeed = speed.astype(int)\nweather = X[:,1]\nweather = weather.astype(int)\nvehicle = X[:,2]\nroad_type = X[:,3]\na_severity = X[:,4]\nday = X[:,5]\nweather = binarize(9,weather)\nspeed = binarize(7,speed)\nvehicle.shape = (-1,1)\nroad_type = binarize(9,road_type)\na_severity = binarize(3,a_severity)\nday = binarize(7,day)\n\nA = np.hstack((weather,speed,vehicle,road_type,a_severity,day))\nA = A.astype(int)\nXtest = A\n\nX = np.asarray(Xtest_set)\nX = X.astype(int)\nspeed = X[:,0]\nspeed = speed / 10\nspeed = speed.astype(int)\nweather = X[:,1]\nweather = weather.astype(int)\nvehicle = X[:,2]\nroad_type = X[:,3]\na_severity = X[:,4]\nday = X[:,5]\nweather = binarize(9,weather)\nspeed = binarize(7,speed)\nvehicle.shape = (-1,1)\nroad_type = binarize(9,road_type)\na_severity = binarize(3,a_severity)\nday = binarize(7,day)\n\nA = np.hstack((weather,speed,vehicle,road_type,a_severity,day))\nA = A.astype(int)\nXtest_set = A\nX = tempX",
      "execution_count": 3,
      "outputs": []
    },
    {
      "metadata": {
        "trusted": true
      },
      "cell_type": "code",
      "source": "y_ref = test_set[\"Accident_Index\"]",
      "execution_count": 8,
      "outputs": []
    },
    {
      "metadata": {
        "trusted": true
      },
      "cell_type": "code",
      "source": "from sklearn.neighbors import KNeighborsClassifier #import a Knn classifier\n\nclassifier = KNeighborsClassifier(n_neighbors = 10)\nclassifier.fit(X,Y)\n",
      "execution_count": 6,
      "outputs": [
        {
          "output_type": "execute_result",
          "execution_count": 6,
          "data": {
            "text/plain": "KNeighborsClassifier(algorithm='auto', leaf_size=30, metric='minkowski',\n           metric_params=None, n_jobs=1, n_neighbors=10, p=2,\n           weights='uniform')"
          },
          "metadata": {}
        }
      ]
    },
    {
      "metadata": {
        "trusted": true
      },
      "cell_type": "code",
      "source": "Ypred = classifier.predict(Xtest)\n\n#we can plot Ytest and Ypred see how well this naive model works\nindex = np.arange(len(Ypred))\n\nplt.scatter(index,Ytest, s= 100,alpha = 0.1, c = \"blue\",label = \"Prediction\")\nplt.scatter(index,Ypred,s = 10, alpha = 0.7, c = \"red\", label = \"Test Data\")\n#270000 training points\n#100 testing points\n\nplt.grid()\nplt.xlabel(\"Sample Number\")\nplt.ylabel(\"Number of Casualties\")\nplt.legend()\n\nscore = sklearn.metrics.accuracy_score(Ytest, Ypred)\nscore\n\nplt.savefig(\"knn_270000_100.pdf\")",
      "execution_count": null,
      "outputs": []
    },
    {
      "metadata": {
        "trusted": true
      },
      "cell_type": "code",
      "source": "from sklearn.ensemble.forest import RandomForestClassifier\n\n#Create the model with 100 trees\n\nmodel = RandomForestClassifier(n_estimators = 100)\n\n#Now fit this Random Forest on the training data:\nmodel.fit(X,Y)",
      "execution_count": 4,
      "outputs": [
        {
          "output_type": "execute_result",
          "execution_count": 4,
          "data": {
            "text/plain": "RandomForestClassifier(bootstrap=True, class_weight=None, criterion='gini',\n            max_depth=None, max_features='auto', max_leaf_nodes=None,\n            min_impurity_decrease=0.0, min_impurity_split=None,\n            min_samples_leaf=1, min_samples_split=2,\n            min_weight_fraction_leaf=0.0, n_estimators=100, n_jobs=1,\n            oob_score=False, random_state=None, verbose=0,\n            warm_start=False)"
          },
          "metadata": {}
        }
      ]
    },
    {
      "metadata": {
        "trusted": true
      },
      "cell_type": "code",
      "source": "Ypred = model.predict(Xtest)\n\nindex = np.arange(len(Ypred))\n\n\nplt.scatter(index,Ytest, s= 100,alpha = 0.1, c = \"blue\",label = \"Prediction\")\nplt.scatter(index,Ypred,s = 10, alpha = 0.7, c = \"red\", label = \"Test Data\")\n#270000 training points\n#100 testing points\n\nplt.grid()\nplt.xlabel(\"Sample Number\")\nplt.ylabel(\"Number of Casualties\")\nplt.legend()\n\nscore = sklearn.metrics.accuracy_score(Ytest, Ypred)\nscore\n\nplt.savefig(\"random_forest_binary_270000_100.pdf\")",
      "execution_count": 7,
      "outputs": [
        {
          "output_type": "display_data",
          "data": {
            "image/png": "[encoded data removed]",
            "text/plain": "<Figure size 432x288 with 1 Axes>"
          },
          "metadata": {
            "needs_background": "light"
          }
        }
      ]
    },
    {
      "metadata": {
        "trusted": true
      },
      "cell_type": "code",
      "source": "Ypred_final = model.predict(Xtest_set)\ny_ref = np.asarray(y_ref)\n\nYpred_final = np.asarray(Ypred_final)\n\nYpred_final.shape = (-1,1)\ny_ref.shape = (-1,1)\n\n\nA = np.hstack((y_ref,Ypred_final))\nsavedata = pd.DataFrame(A)\nsavedata.to_csv(\"GNTM_y_predictions.csv\")",
      "execution_count": 16,
      "outputs": []
    },
    {
      "metadata": {
        "trusted": true
      },
      "cell_type": "code",
      "source": "",
      "execution_count": null,
      "outputs": []
    }
  ],
  "metadata": {
    "kernelspec": {
      "name": "python36",
      "display_name": "Python 3.6",
      "language": "python"
    },
    "language_info": {
      "mimetype": "text/x-python",
      "nbconvert_exporter": "python",
      "name": "python",
      "pygments_lexer": "ipython3",
      "version": "3.6.6",
      "file_extension": ".py",
      "codemirror_mode": {
        "version": 3,
        "name": "ipython"
      }
    }
  },
  "nbformat": 4,
  "nbformat_minor": 2
}