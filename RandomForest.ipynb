{
  "cells": [
    {
      "metadata": {
        "trusted": true
      },
      "cell_type": "code",
      "source": "import numpy as np\nimport matplotlib.pyplot as plt\nimport pandas as pd\nimport sklearn\ndata = pd.read_csv(\"ShoniData.csv\")",
      "execution_count": 1,
      "outputs": [
        {
          "output_type": "stream",
          "text": "/home/nbuser/anaconda3_501/lib/python3.6/site-packages/IPython/core/interactiveshell.py:3018: DtypeWarning: Columns (0,51) have mixed types. Specify dtype option on import or set low_memory=False.\n  interactivity=interactivity, compiler=compiler, result=result)\n",
          "name": "stderr"
        }
      ]
    },
    {
      "metadata": {
        "trusted": true
      },
      "cell_type": "code",
      "source": "test_set = pd.read_csv(\"test_data.csv\")\n",
      "execution_count": 2,
      "outputs": []
    },
    {
      "metadata": {
        "trusted": true
      },
      "cell_type": "code",
      "source": "play_data = data[0:200000].copy() #get some data messwith, we can get more data to train our models later\ntest = data[250000:250100]\n#remove elements were a value is unkown\n#alternatively we could replace is by a random value but that could be attempted later\nplay_data = play_data.drop(play_data[play_data.age_band_of_driver == -1].index)\nplay_data = play_data.drop(play_data[play_data.number_of_vehicles == -1].index)\nplay_data = play_data.drop(play_data[play_data.weather_conditions == -1].index)\nplay_data = play_data.drop(play_data[play_data.age_band_of_driver == -1].index)\nplay_data = play_data.drop(play_data[play_data.skidding_and_overturning == -1].index)\nplay_data = play_data.drop(play_data[play_data.first_point_of_impact == -1].index)\nplay_data = play_data.drop(play_data[play_data.road_type == -1].index)\n\ntest = test.drop(test[test.age_band_of_driver == -1].index)\ntest = test.drop(test[test.number_of_vehicles == -1].index)\ntest = test.drop(test[test.weather_conditions == -1].index)\ntest = test.drop(test[test.age_band_of_driver == -1].index)\ntest = test.drop(test[test.road_type == -1].index)\ntest = test.drop(test[test.skidding_and_overturning == -1].index)\n\na = play_data.reset_index()\nplay_data = a\nb = test.reset_index()\ntest = b\n\nX = play_data[[\"speed_limit\",\"weather_conditions\",\"number_of_vehicles\",\n               \"road_type\",\"accident_severity\",\"day_of_week\"]]\n\nXtest = test[[\"speed_limit\",\"weather_conditions\",\"number_of_vehicles\",\n               \"road_type\",\"accident_severity\",\"day_of_week\"]]\n\n\nXtest_set = test_set[[\"Speed_limit\",\"Weather_Conditions\",\"Number_of_Vehicles\",\n              \"Road_Type\",\"Accident_Severity\",\"Day_of_Week\"]]\n\n\n#this is the y variable\nY = play_data[\"number_of_casualties\"] #casualties is our interest variable Y\nYtest = test[\"number_of_casualties\"]\n",
      "execution_count": 3,
      "outputs": []
    },
    {
      "metadata": {
        "trusted": true
      },
      "cell_type": "code",
      "source": "from sklearn.ensemble.forest import RandomForestClassifier\n\n#Create the model with 100 trees\n\nmodel = RandomForestClassifier(n_estimators = 100)\n\n#Now fit this Random Forest on the training data:\nmodel.fit(X,Y)\n",
      "execution_count": 5,
      "outputs": [
        {
          "output_type": "error",
          "ename": "NameError",
          "evalue": "name 'Ypred' is not defined",
          "traceback": [
            "\u001b[0;31m---------------------------------------------------------------------------\u001b[0m",
            "\u001b[0;31mNameError\u001b[0m                                 Traceback (most recent call last)",
            "\u001b[0;32m<ipython-input-5-ac2400b9579b>\u001b[0m in \u001b[0;36m<module>\u001b[0;34m\u001b[0m\n\u001b[1;32m      7\u001b[0m \u001b[0;31m#Now fit this Random Forest on the training data:\u001b[0m\u001b[0;34m\u001b[0m\u001b[0;34m\u001b[0m\u001b[0m\n\u001b[1;32m      8\u001b[0m \u001b[0mmodel\u001b[0m\u001b[0;34m.\u001b[0m\u001b[0mfit\u001b[0m\u001b[0;34m(\u001b[0m\u001b[0mX\u001b[0m\u001b[0;34m,\u001b[0m\u001b[0mY\u001b[0m\u001b[0;34m)\u001b[0m\u001b[0;34m\u001b[0m\u001b[0m\n\u001b[0;32m----> 9\u001b[0;31m \u001b[0mindex\u001b[0m \u001b[0;34m=\u001b[0m \u001b[0mnp\u001b[0m\u001b[0;34m.\u001b[0m\u001b[0marange\u001b[0m\u001b[0;34m(\u001b[0m\u001b[0mlen\u001b[0m\u001b[0;34m(\u001b[0m\u001b[0mYpred\u001b[0m\u001b[0;34m)\u001b[0m\u001b[0;34m)\u001b[0m\u001b[0;34m\u001b[0m\u001b[0m\n\u001b[0m",
            "\u001b[0;31mNameError\u001b[0m: name 'Ypred' is not defined"
          ]
        }
      ]
    },
    {
      "metadata": {
        "trusted": true
      },
      "cell_type": "code",
      "source": "Ypred = model.predict(Xtest)\nindex = np.arange(len(Ypred))\nplt.scatter(index,Ypred,s = 100, alpha = 0.1, c = \"blue\",label = \"Prediction\")\nplt.scatter(index,Ytest, s = 10,alpha = 0.9, c = \"red\",label = \"Test Data\")\n\nplt.grid()\nplt.xlabel(\"Sample Number\")\nplt.ylabel(\"Number of Casualties\")\nplt.legend()\n\nscore = sklearn.metrics.accuracy_score(Ytest, Ypred)\nprint (\"Score is = \" + str(score))\n\nplt.savefig(\"random_forest_270000_100.pdf\")",
      "execution_count": 9,
      "outputs": [
        {
          "output_type": "stream",
          "text": "Score is = 0.6\n",
          "name": "stdout"
        },
        {
          "output_type": "display_data",
          "data": {
            "image/png": "[encoded data removed]",
            "text/plain": "<Figure size 432x288 with 1 Axes>"
          },
          "metadata": {
            "needs_background": "light"
          }
        }
      ]
    },
    {
      "metadata": {
        "trusted": true
      },
      "cell_type": "code",
      "source": "Ypred_final = model.predict(Xtest_set)\nYpred_final",
      "execution_count": 8,
      "outputs": [
        {
          "output_type": "execute_result",
          "execution_count": 8,
          "data": {
            "text/plain": "array([1., 1., 1., ..., 1., 1., 1.])"
          },
          "metadata": {}
        }
      ]
    }
  ],
  "metadata": {
    "kernelspec": {
      "name": "python36",
      "display_name": "Python 3.6",
      "language": "python"
    },
    "language_info": {
      "mimetype": "text/x-python",
      "nbconvert_exporter": "python",
      "name": "python",
      "pygments_lexer": "ipython3",
      "version": "3.6.6",
      "file_extension": ".py",
      "codemirror_mode": {
        "version": 3,
        "name": "ipython"
      }
    }
  },
  "nbformat": 4,
  "nbformat_minor": 2
}